{
 "cells": [
  {
   "cell_type": "code",
   "execution_count": 1,
   "id": "6aa1f005",
   "metadata": {},
   "outputs": [],
   "source": [
    "%load_ext autoreload\n",
    "%autoreload 2"
   ]
  },
  {
   "cell_type": "code",
   "execution_count": 2,
   "id": "68caf5c1",
   "metadata": {},
   "outputs": [
    {
     "name": "stderr",
     "output_type": "stream",
     "text": [
      "/home/tedlasai/miniconda3/envs/gencam/lib/python3.10/site-packages/tqdm/auto.py:21: TqdmWarning: IProgress not found. Please update jupyter and ipywidgets. See https://ipywidgets.readthedocs.io/en/stable/user_install.html\n",
      "  from .autonotebook import tqdm as notebook_tqdm\n",
      "Loading checkpoint shards: 100%|██████████| 4/4 [00:11<00:00,  2.77s/it]\n",
      "Loading pipeline components...: 100%|██████████| 5/5 [00:00<00:00, 22.79it/s]\n"
     ]
    }
   ],
   "source": [
    "import torch\n",
    "from diffusers import AutoencoderKLCogVideoX, CogVideoXImageToVideoPipeline, CogVideoXTransformer3DModel\n",
    "from diffusers.utils import export_to_video, load_image\n",
    "from transformers import T5EncoderModel\n",
    "import numpy as np\n",
    "model_id = \"/datasets/sai/gencam/cogvideox/CogVideoX1.5-5B-I2V/models--THUDM--CogVideoX1.5-5B-I2V/snapshots/46c90528707aebbe69066390b4fe7e7d24c9c2a4\"\n",
    "\n",
    "transformer = CogVideoXTransformer3DModel.from_pretrained(model_id, subfolder=\"transformer\", torch_dtype=torch.bfloat16, low_cpu_mem_usage=True)\n",
    "text_encoder = T5EncoderModel.from_pretrained(model_id, subfolder=\"text_encoder\", torch_dtype=torch.bfloat16, low_cpu_mem_usage=True)\n",
    "vae = AutoencoderKLCogVideoX.from_pretrained(model_id, subfolder=\"vae\", torch_dtype=torch.bfloat16, low_cpu_mem_usage=True)\n",
    "\n",
    "# Create pipeline and run inference\n",
    "pipe = CogVideoXImageToVideoPipeline.from_pretrained(\n",
    "    model_id,\n",
    "    text_encoder=text_encoder,\n",
    "    transformer=transformer,\n",
    "    vae=vae,\n",
    "    torch_dtype=torch.bfloat16,\n",
    ")\n",
    "\n",
    "\n",
    "pipe.to(device='cuda')\n",
    "pipe.enable_sequential_cpu_offload()\n",
    "pipe.vae.enable_tiling()\n"
   ]
  },
  {
   "cell_type": "code",
   "execution_count": null,
   "id": "0579ae02",
   "metadata": {},
   "outputs": [
    {
     "name": "stderr",
     "output_type": "stream",
     "text": [
      "100%|██████████| 50/50 [05:09<00:00,  6.19s/it]\n"
     ]
    },
    {
     "data": {
      "text/plain": [
       "'output.mp4'"
      ]
     },
     "execution_count": 8,
     "metadata": {},
     "output_type": "execute_result"
    }
   ],
   "source": [
    "path = \"/datasets/sai/gencam/FullDataset/Adobe240/lower_fps_frames/IMG_0173/frame_00299.png\"\n",
    "\n",
    "# Load image\n",
    "image = load_image(path)\n",
    "\n",
    "prompt = \"A person walking.\"\n",
    "\n",
    "with torch.no_grad():\n",
    "    video = pipe(image=image, prompt=prompt, guidance_scale=4, use_dynamic_cfg=True, num_inference_steps=50, num_frames = 17).frames[0]\n",
    "export_to_video(video, \"output.mp4\", fps=8)"
   ]
  }
 ],
 "metadata": {
  "kernelspec": {
   "display_name": "gencam",
   "language": "python",
   "name": "python3"
  },
  "language_info": {
   "codemirror_mode": {
    "name": "ipython",
    "version": 3
   },
   "file_extension": ".py",
   "mimetype": "text/x-python",
   "name": "python",
   "nbconvert_exporter": "python",
   "pygments_lexer": "ipython3",
   "version": "3.10.16"
  }
 },
 "nbformat": 4,
 "nbformat_minor": 5
}
